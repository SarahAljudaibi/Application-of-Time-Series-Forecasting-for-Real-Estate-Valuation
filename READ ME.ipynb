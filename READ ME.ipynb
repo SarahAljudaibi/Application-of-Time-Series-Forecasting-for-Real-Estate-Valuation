{
 "cells": [
  {
   "cell_type": "markdown",
   "id": "df2c76a6",
   "metadata": {},
   "source": [
    "# <center> Time Series Forecasting in Real Estate Valuation  </center>\n"
   ]
  },
  {
   "cell_type": "markdown",
   "id": "3b4695a3",
   "metadata": {},
   "source": [
    "## Problem Statment"
   ]
  },
  {
   "cell_type": "markdown",
   "id": "b7ebb222",
   "metadata": {},
   "source": [
    "In the past years real estate Trades Prices in Japan's have been rising up and down,affected by the\n",
    "economic market. The main challenge here is to determine the future value of the property after a certain period of time, taking into account various expected factors such as the effects of the current pandemic to the future results.\n",
    "\n",
    "We will build a time series forecasting model to forecast the property average prices based on historical data of all the 47 prefectures in Japan. Using time series Algorithms will help us to understand the characteristics and the\n",
    "statistics of the real estate data. "
   ]
  },
  {
   "cell_type": "markdown",
   "id": "69357111",
   "metadata": {},
   "source": [
    "## Project Guideline: \n",
    "\n",
    "\n",
    "This work is organize to 3 notebook files:\n",
    "\n",
    "**Notebook 1: EDA & Feature Engineering.**<br>\n",
    "**Notebook 2: Static Modeling for Producing Time Series.**<br>\n",
    "**Notebook 2: Mean-Point Time Series Modeling.**<br>\n",
    "\n",
    "\n",
    "using Tokyo prefecture data provided by by Ministry of Land, Infrastructure, Transport and Tourism of Japan (MLIT) with addition to the housing consumer price index for japan data, we introduce two approaches:\n",
    "\n",
    "**First Static Modeling for Producing Time Series:**\n",
    "\n",
    "For every quarter we produced static models. Then predict the price of an instance, using all quarter models. The result is a predicted time series data which will then be forecasted into the future using an **LSTM** without the timestamp features ['Year','Quarter'].\n",
    "\n",
    "**Second Mean-Point Time Series Modeling:**\n",
    "\n",
    "The pipeline of this approach is built to take an instance X, and produce a time series output from the full dataset that best represent X with the **Mean Point Scheme Function**. The time series data is then forecasted using baseline models **ARIMAX & SARIMAX** and the **LSTM model**.\n"
   ]
  },
  {
   "cell_type": "markdown",
   "id": "91ebd473",
   "metadata": {},
   "source": [
    "## Datasets Reference\n",
    "\n",
    "- for Trades data: https://www.kaggle.com/datasets/nishiodens/japan-real-estate-transaction-prices\n",
    "- for Housing Consumer Price index: https://fred.stlouisfed.org/series/JPNCPGRHO01IXOBQ"
   ]
  },
  {
   "cell_type": "code",
   "execution_count": null,
   "id": "c3a18447",
   "metadata": {},
   "outputs": [],
   "source": []
  }
 ],
 "metadata": {
  "kernelspec": {
   "display_name": "Python 3 (ipykernel)",
   "language": "python",
   "name": "python3"
  },
  "language_info": {
   "codemirror_mode": {
    "name": "ipython",
    "version": 3
   },
   "file_extension": ".py",
   "mimetype": "text/x-python",
   "name": "python",
   "nbconvert_exporter": "python",
   "pygments_lexer": "ipython3",
   "version": "3.9.12"
  }
 },
 "nbformat": 4,
 "nbformat_minor": 5
}
